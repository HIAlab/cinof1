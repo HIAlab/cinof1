{
 "cells": [
  {
   "cell_type": "raw",
   "id": "7ece622f",
   "metadata": {},
   "source": [
    "---\n",
    "title: \"Example Use\"\n",
    "author: \"Thomas Gaertner\"\n",
    "date: \"4/13/2021\"\n",
    "output: pdf_document\n",
    "---"
   ]
  },
  {
   "cell_type": "code",
   "execution_count": 1,
   "id": "6578e82c",
   "metadata": {
    "message": false,
    "name": "setup",
    "warnings": false
   },
   "outputs": [
    {
     "name": "stderr",
     "output_type": "stream",
     "text": [
      "\u001b[36mℹ\u001b[39m Updating \u001b[34m\u001b[34mcinof1\u001b[34m\u001b[39m documentation\n",
      "\n",
      "\u001b[36mℹ\u001b[39m Loading \u001b[34m\u001b[34mcinof1\u001b[34m\u001b[39m\n",
      "\n",
      "Warning message in system(\"timedatectl\", intern = TRUE):\n",
      "“running command 'timedatectl' had status 1”\n",
      "Warning message:\n",
      "“[/home/nils/cinof1/R/adjtreat.R:25] @example spans multiple lines. Do you want @examples?”\n",
      "Warning message:\n",
      "“[/home/nils/cinof1/R/basic_functions.R:64] @example spans multiple lines. Do you want @examples?”\n"
     ]
    },
    {
     "name": "stdout",
     "output_type": "stream",
     "text": [
      "Writing NAMESPACE\n",
      "Writing NAMESPACE\n"
     ]
    }
   ],
   "source": [
    "devtools::document()\n",
    "knitr::opts_chunk$set(echo = TRUE)"
   ]
  },
  {
   "cell_type": "markdown",
   "id": "af5f367e",
   "metadata": {},
   "source": [
    "# Introduction\n",
    "\n",
    "This R Markdown document shows the usage of the package `cino1`. "
   ]
  },
  {
   "cell_type": "code",
   "execution_count": 2,
   "id": "ddc0325e",
   "metadata": {
    "lines_to_next_cell": 2,
    "message": false,
    "warnings": false
   },
   "outputs": [
    {
     "name": "stderr",
     "output_type": "stream",
     "text": [
      "\u001b[36mℹ\u001b[39m Updating \u001b[34m\u001b[34mcinof1\u001b[34m\u001b[39m documentation\n",
      "\n",
      "\u001b[36mℹ\u001b[39m Loading \u001b[34m\u001b[34mcinof1\u001b[34m\u001b[39m\n",
      "\n",
      "Warning message:\n",
      "“[/home/nils/cinof1/R/adjtreat.R:25] @example spans multiple lines. Do you want @examples?”\n",
      "Warning message:\n",
      "“[/home/nils/cinof1/R/basic_functions.R:64] @example spans multiple lines. Do you want @examples?”\n"
     ]
    },
    {
     "name": "stdout",
     "output_type": "stream",
     "text": [
      "Writing NAMESPACE\n",
      "Writing NAMESPACE\n"
     ]
    },
    {
     "name": "stderr",
     "output_type": "stream",
     "text": [
      "Installing package into ‘/home/nils/R/x86_64-pc-linux-gnu-library/4.0’\n",
      "(as ‘lib’ is unspecified)\n",
      "\n",
      "Warning message in install.packages(\"~/Documents/Masterarbeit/Package/nofone/\", :\n",
      "“installation of package ‘/home/nils/Documents/Masterarbeit/Package/nofone/’ had non-zero exit status”\n",
      "Loading required package: foreach\n",
      "\n",
      "Loading required package: iterators\n",
      "\n",
      "Loading required package: parallel\n",
      "\n"
     ]
    }
   ],
   "source": [
    "# Install local package\n",
    "devtools::document()\n",
    "install.packages(\"~/Documents/Masterarbeit/Package/nofone/\", repos = NULL, type=\"source\")\n",
    "# load package\n",
    "library(cinof1)\n",
    "library(doParallel)"
   ]
  },
  {
   "cell_type": "markdown",
   "id": "37568bfa",
   "metadata": {},
   "source": [
    "## Data\n",
    "\n",
    "In this package, a sample data frame is included. It contains data for 300 patients within an n of 1 study. The data has the following structure:\n",
    "\n",
    "* _patient_id_: Unique patient identifier\n",
    "* _date_: Date of data points\n",
    "* _day_: Day in study\n",
    "* _Block_: identifies treatment block\n",
    "* _Activity_: Dummy variable for steps per day\n",
    "* _treatment_: Dummy variable for 2 treatments as factors\n",
    "* _Uncertain_Low_Back_Pain_: Dummy variable for Uncertain loq back pain on scale 1-15"
   ]
  },
  {
   "cell_type": "code",
   "execution_count": 3,
   "id": "004c3c36",
   "metadata": {
    "message": false,
    "name": "data",
    "warnings": false
   },
   "outputs": [
    {
     "data": {
      "text/plain": [
       "   patient_id            date           day               treatment   \n",
       " Min.   : 0.00   2018-01-01:  20   Min.   :  1.00   Treatment_1:1120  \n",
       " 1st Qu.: 4.75   2018-01-02:  20   1st Qu.: 28.75   Treatment_2:1120  \n",
       " Median : 9.50   2018-01-03:  20   Median : 56.50                     \n",
       " Mean   : 9.50   2018-01-04:  20   Mean   : 56.50                     \n",
       " 3rd Qu.:14.25   2018-01-05:  20   3rd Qu.: 84.25                     \n",
       " Max.   :19.00   2018-01-06:  20   Max.   :112.00                     \n",
       "                 (Other)   :2120                                      \n",
       " Uncertain_Low_Back_Pain     block         Activity       \n",
       " Min.   : 6.000          Min.   :1.00   Min.   :   45.19  \n",
       " 1st Qu.: 9.000          1st Qu.:1.75   1st Qu.: 5563.32  \n",
       " Median : 9.000          Median :2.50   Median : 6910.56  \n",
       " Mean   : 9.231          Mean   :2.50   Mean   : 6943.34  \n",
       " 3rd Qu.:10.000          3rd Qu.:3.25   3rd Qu.: 8290.16  \n",
       " Max.   :12.000          Max.   :4.00   Max.   :14084.38  \n",
       "                                                          "
      ]
     },
     "metadata": {},
     "output_type": "display_data"
    }
   ],
   "source": [
    "load(\"data/simpatdat.rda\")\n",
    "# Summarize Data\n",
    "summary(simpatdat)"
   ]
  },
  {
   "cell_type": "markdown",
   "id": "293b8a8d",
   "metadata": {},
   "source": [
    "## Basic Functions\n",
    "\n",
    "Basic functions for analyse N-of-1 studys are for example wilcox test or comparative plots. These two functions are provided in this package.\n",
    "\n",
    "### Comparative Plot\n",
    "\n",
    "To get a first idea about the data and the difference between treatment 1 and treatment 2, a comparative plot could be used. It shows the outcome on the y-Axis against the different treatments on the x-Axis,"
   ]
  },
  {
   "cell_type": "code",
   "execution_count": 4,
   "id": "12abb419",
   "metadata": {
    "lines_to_next_cell": 2,
    "message": false,
    "name": "basic function comparativ plot",
    "warnings": false
   },
   "outputs": [
    {
     "data": {
      "image/png": "[encoded data removed]",
      "text/plain": [
       "plot without title"
      ]
     },
     "metadata": {
      "image/png": {
       "height": 420,
       "width": 420
      }
     },
     "output_type": "display_data"
    }
   ],
   "source": [
    "# Define outcome and exposure column\n",
    "outcome <- \"Uncertain_Low_Back_Pain\"\n",
    "exposure <- \"treatment\"\n",
    "# Plot outcome among different exposures\n",
    "comparative.plot(simpatdat, exposure = exposure, outcome = outcome)"
   ]
  },
  {
   "cell_type": "markdown",
   "id": "053d2cab",
   "metadata": {},
   "source": [
    "## Wilcox Test\n",
    "\n",
    "To validate, that there is a difference in both treatments, the Wilcox test could be used. It calculates the p-value for the null hypothesis, that there location shift is equal to zero."
   ]
  },
  {
   "cell_type": "code",
   "execution_count": 5,
   "id": "b41bcaca",
   "metadata": {
    "message": false,
    "name": "basic function wilcox test",
    "warnings": false
   },
   "outputs": [
    {
     "data": {
      "text/plain": [
       "\n",
       "\tWilcoxon rank sum test\n",
       "\n",
       "data:  Uncertain_Low_Back_Pain by treatment\n",
       "W = 1048691, p-value < 2.2e-16\n",
       "alternative hypothesis: true location shift is not equal to 0\n"
      ]
     },
     "metadata": {},
     "output_type": "display_data"
    }
   ],
   "source": [
    "# Define outcome and exposure column\n",
    "outcome <- \"Uncertain_Low_Back_Pain\"\n",
    "exposure <- \"treatment\"\n",
    "# Perform Wilcox test among different exposures\n",
    "wilcox.nofone(simpatdat, exposure = exposure, outcome = outcome)"
   ]
  },
  {
   "cell_type": "markdown",
   "id": "dc7f8516",
   "metadata": {},
   "source": [
    "## Adjust Wash In and Wash Out\n"
   ]
  },
  {
   "cell_type": "code",
   "execution_count": 6,
   "id": "dda400a9",
   "metadata": {
    "message": false,
    "name": "adj.wash.in",
    "warnings": false
   },
   "outputs": [
    {
     "data": {
      "text/html": [
       "<dl>\n",
       "\t<dt>$data</dt>\n",
       "\t\t<dd><table class=\"dataframe\">\n",
       "<caption>A data.frame: 4 × 9</caption>\n",
       "<thead>\n",
       "\t<tr><th scope=col>treatment.Treatment_1.gamma</th><th scope=col>treatment.Treatment_2.gamma</th><th scope=col>treatment.Treatment_1.tau</th><th scope=col>treatment.Treatment_2.tau</th><th scope=col>r2</th><th scope=col>treatment.Treatment_1.Estimate</th><th scope=col>treatment.Treatment_1.Std..Error</th><th scope=col>treatment.Treatment_2.Estimate</th><th scope=col>treatment.Treatment_2.Std..Error</th></tr>\n",
       "\t<tr><th scope=col>&lt;int&gt;</th><th scope=col>&lt;int&gt;</th><th scope=col>&lt;int&gt;</th><th scope=col>&lt;int&gt;</th><th scope=col>&lt;dbl&gt;</th><th scope=col>&lt;dbl&gt;</th><th scope=col>&lt;dbl&gt;</th><th scope=col>&lt;dbl&gt;</th><th scope=col>&lt;dbl&gt;</th></tr>\n",
       "</thead>\n",
       "<tbody>\n",
       "\t<tr><td>1</td><td>1</td><td>1</td><td>1</td><td>0.3925277</td><td> 1.11654798</td><td>0.03050288</td><td>       NA</td><td>       NA</td></tr>\n",
       "\t<tr><td>2</td><td>1</td><td>2</td><td>1</td><td>0.3922651</td><td>-0.03097696</td><td>0.16987892</td><td>-1.145895</td><td>0.1638043</td></tr>\n",
       "\t<tr><td>1</td><td>2</td><td>1</td><td>2</td><td>0.4098408</td><td>-0.48246803</td><td>0.19819322</td><td>-1.656651</td><td>0.2029606</td></tr>\n",
       "\t<tr><td>2</td><td>2</td><td>2</td><td>2</td><td>0.4429989</td><td>-3.24965646</td><td>0.27524924</td><td>-4.357631</td><td>0.2717909</td></tr>\n",
       "</tbody>\n",
       "</table>\n",
       "</dd>\n",
       "\t<dt>$best</dt>\n",
       "\t\t<dd><table class=\"dataframe\">\n",
       "<caption>A data.frame: 1 × 4</caption>\n",
       "<thead>\n",
       "\t<tr><th></th><th scope=col>treatment.Treatment_1.gamma</th><th scope=col>treatment.Treatment_2.gamma</th><th scope=col>treatment.Treatment_1.tau</th><th scope=col>treatment.Treatment_2.tau</th></tr>\n",
       "\t<tr><th></th><th scope=col>&lt;int&gt;</th><th scope=col>&lt;int&gt;</th><th scope=col>&lt;int&gt;</th><th scope=col>&lt;int&gt;</th></tr>\n",
       "</thead>\n",
       "<tbody>\n",
       "\t<tr><th scope=row>4</th><td>2</td><td>2</td><td>2</td><td>2</td></tr>\n",
       "</tbody>\n",
       "</table>\n",
       "</dd>\n",
       "</dl>\n"
      ],
      "text/latex": [
       "\\begin{description}\n",
       "\\item[\\$data] A data.frame: 4 × 9\n",
       "\\begin{tabular}{lllllllll}\n",
       " treatment.Treatment\\_1.gamma & treatment.Treatment\\_2.gamma & treatment.Treatment\\_1.tau & treatment.Treatment\\_2.tau & r2 & treatment.Treatment\\_1.Estimate & treatment.Treatment\\_1.Std..Error & treatment.Treatment\\_2.Estimate & treatment.Treatment\\_2.Std..Error\\\\\n",
       " <int> & <int> & <int> & <int> & <dbl> & <dbl> & <dbl> & <dbl> & <dbl>\\\\\n",
       "\\hline\n",
       "\t 1 & 1 & 1 & 1 & 0.3925277 &  1.11654798 & 0.03050288 &        NA &        NA\\\\\n",
       "\t 2 & 1 & 2 & 1 & 0.3922651 & -0.03097696 & 0.16987892 & -1.145895 & 0.1638043\\\\\n",
       "\t 1 & 2 & 1 & 2 & 0.4098408 & -0.48246803 & 0.19819322 & -1.656651 & 0.2029606\\\\\n",
       "\t 2 & 2 & 2 & 2 & 0.4429989 & -3.24965646 & 0.27524924 & -4.357631 & 0.2717909\\\\\n",
       "\\end{tabular}\n",
       "\n",
       "\\item[\\$best] A data.frame: 1 × 4\n",
       "\\begin{tabular}{r|llll}\n",
       "  & treatment.Treatment\\_1.gamma & treatment.Treatment\\_2.gamma & treatment.Treatment\\_1.tau & treatment.Treatment\\_2.tau\\\\\n",
       "  & <int> & <int> & <int> & <int>\\\\\n",
       "\\hline\n",
       "\t4 & 2 & 2 & 2 & 2\\\\\n",
       "\\end{tabular}\n",
       "\n",
       "\\end{description}\n"
      ],
      "text/markdown": [
       "$data\n",
       ":   \n",
       "A data.frame: 4 × 9\n",
       "\n",
       "| treatment.Treatment_1.gamma &lt;int&gt; | treatment.Treatment_2.gamma &lt;int&gt; | treatment.Treatment_1.tau &lt;int&gt; | treatment.Treatment_2.tau &lt;int&gt; | r2 &lt;dbl&gt; | treatment.Treatment_1.Estimate &lt;dbl&gt; | treatment.Treatment_1.Std..Error &lt;dbl&gt; | treatment.Treatment_2.Estimate &lt;dbl&gt; | treatment.Treatment_2.Std..Error &lt;dbl&gt; |\n",
       "|---|---|---|---|---|---|---|---|---|\n",
       "| 1 | 1 | 1 | 1 | 0.3925277 |  1.11654798 | 0.03050288 |        NA |        NA |\n",
       "| 2 | 1 | 2 | 1 | 0.3922651 | -0.03097696 | 0.16987892 | -1.145895 | 0.1638043 |\n",
       "| 1 | 2 | 1 | 2 | 0.4098408 | -0.48246803 | 0.19819322 | -1.656651 | 0.2029606 |\n",
       "| 2 | 2 | 2 | 2 | 0.4429989 | -3.24965646 | 0.27524924 | -4.357631 | 0.2717909 |\n",
       "\n",
       "\n",
       "$best\n",
       ":   \n",
       "A data.frame: 1 × 4\n",
       "\n",
       "| <!--/--> | treatment.Treatment_1.gamma &lt;int&gt; | treatment.Treatment_2.gamma &lt;int&gt; | treatment.Treatment_1.tau &lt;int&gt; | treatment.Treatment_2.tau &lt;int&gt; |\n",
       "|---|---|---|---|---|\n",
       "| 4 | 2 | 2 | 2 | 2 |\n",
       "\n",
       "\n",
       "\n",
       "\n"
      ],
      "text/plain": [
       "$data\n",
       "  treatment.Treatment_1.gamma treatment.Treatment_2.gamma\n",
       "1                           1                           1\n",
       "2                           2                           1\n",
       "3                           1                           2\n",
       "4                           2                           2\n",
       "  treatment.Treatment_1.tau treatment.Treatment_2.tau        r2\n",
       "1                         1                         1 0.3925277\n",
       "2                         2                         1 0.3922651\n",
       "3                         1                         2 0.4098408\n",
       "4                         2                         2 0.4429989\n",
       "  treatment.Treatment_1.Estimate treatment.Treatment_1.Std..Error\n",
       "1                     1.11654798                       0.03050288\n",
       "2                    -0.03097696                       0.16987892\n",
       "3                    -0.48246803                       0.19819322\n",
       "4                    -3.24965646                       0.27524924\n",
       "  treatment.Treatment_2.Estimate treatment.Treatment_2.Std..Error\n",
       "1                             NA                               NA\n",
       "2                      -1.145895                        0.1638043\n",
       "3                      -1.656651                        0.2029606\n",
       "4                      -4.357631                        0.2717909\n",
       "\n",
       "$best\n",
       "  treatment.Treatment_1.gamma treatment.Treatment_2.gamma\n",
       "4                           2                           2\n",
       "  treatment.Treatment_1.tau treatment.Treatment_2.tau\n",
       "4                         2                         2\n"
      ]
     },
     "metadata": {},
     "output_type": "display_data"
    },
    {
     "name": "stderr",
     "output_type": "stream",
     "text": [
      "Warning message in if (is.na(effects)) {:\n",
      "“the condition has length > 1 and only the first element will be used”\n"
     ]
    },
    {
     "data": {
      "text/plain": [
       "\n",
       "Call:\n",
       "lm(formula = formula(str_formula), data = data, na.action = na.omit)\n",
       "\n",
       "Coefficients:\n",
       "                        (Intercept)  treatment.Treatment_1.gamma.2.tau.2  \n",
       "                          1.360e+01                           -3.250e+00  \n",
       "                           Activity  treatment.Treatment_2.gamma.2.tau.2  \n",
       "                         -8.569e-05                           -4.358e+00  \n"
      ]
     },
     "metadata": {},
     "output_type": "display_data"
    }
   ],
   "source": [
    "outcome <- \"Uncertain_Low_Back_Pain\"\n",
    "exposure <- \"treatment\"\n",
    "variables <- c(\"Activity\")\n",
    "id <- \"patient_id\"\n",
    "time_col <- \"day\"\n",
    "\n",
    "result <- estimate.gamma.tau(data = simpatdat, outcome = outcome, exposure = exposure, variables = variables, bound = 2, symmetric = TRUE, id=id, time_col = time_col)\n",
    "\n",
    "result\n",
    "\n",
    "fit.adj.lm(data = simpatdat, outcome = outcome, exposure = exposure, variables = variables, effects = result$best, id = id, time_col = time_col)"
   ]
  },
  {
   "cell_type": "markdown",
   "id": "28d3474f",
   "metadata": {
    "lines_to_next_cell": 0
   },
   "source": [
    "## Bayesian\n",
    "\n",
    "Bayesian Networks are used to calculated the probability of outcome variables adjusted for confounders. For that, a dag is required, which identifies the relations between the variables.\n",
    "In this implementation, also lags are included and could be specified in the dag by adding `.lag=` to the variable name.\n",
    "\n",
    "###  Preprocess Data"
   ]
  },
  {
   "cell_type": "code",
   "execution_count": 7,
   "id": "bb02dd47",
   "metadata": {
    "lines_to_next_cell": 2,
    "message": false,
    "name": "bn.data",
    "warnings": false
   },
   "outputs": [
    {
     "data": {
      "image/png": "[encoded data removed]",
      "text/plain": [
       "Plot with title “Transformed Bn DAG”"
      ]
     },
     "metadata": {
      "image/png": {
       "height": 420,
       "width": 420
      }
     },
     "output_type": "display_data"
    }
   ],
   "source": [
    "# specify column names\n",
    "id <- \"patient_id\"\n",
    "time_col <- \"day\"\n",
    "\n",
    "# Load data\n",
    "load(\"data/simpatdag.rda\")\n",
    "load(\"data/simpatdat.rda\")\n",
    "\n",
    "# Dag preprocessing\n",
    "bn.dag <- bn.prep.dag(simpatdag)\n",
    "\n",
    "# Data Preprocessing (Factorization)\n",
    "simpatdat$Uncertain_Low_Back_Pain <- as.factor(simpatdat$Uncertain_Low_Back_Pain)\n",
    "simpatdat$Activity <- cut(simpatdat$Activity, 3, labels=c(\"low Activity\", \"middle Activity\", \"high Activity\"))\n",
    "bn.data <- bn.prep.data(bn.dag, simpatdat, id, time_col)\n",
    "bn.data <- na.omit(bn.data)"
   ]
  },
  {
   "cell_type": "markdown",
   "id": "60126c7c",
   "metadata": {
    "lines_to_next_cell": 0
   },
   "source": [
    "### Fit and Plot Results"
   ]
  },
  {
   "cell_type": "code",
   "execution_count": 8,
   "id": "4b0a208d",
   "metadata": {
    "lines_to_next_cell": 2,
    "message": false,
    "name": "bn.fit",
    "warnings": false
   },
   "outputs": [
    {
     "data": {
      "image/png": "[encoded data removed]",
      "text/plain": [
       "plot without title"
      ]
     },
     "metadata": {
      "image/png": {
       "height": 420,
       "width": 420
      }
     },
     "output_type": "display_data"
    }
   ],
   "source": [
    "fitted.bn <- bn.fit.dag(bn.data, bn.dag, method=\"bayes\")\n",
    "\n",
    "library(bnlearn)\n",
    "bn.fit.barchart(fitted.bn$Uncertain_Low_Back_Pain)"
   ]
  },
  {
   "cell_type": "markdown",
   "id": "8bbde7d8",
   "metadata": {
    "lines_to_next_cell": 0
   },
   "source": [
    "## G-Estimation\n",
    "\n",
    "G-Estimation is used to adjust the analysis for causal inferences. For that, three different methods are implemented\n",
    "\n",
    "### Load Data"
   ]
  },
  {
   "cell_type": "code",
   "execution_count": 9,
   "id": "e2239257",
   "metadata": {
    "lines_to_next_cell": 2,
    "message": false,
    "name": "g.est load data",
    "warnings": false
   },
   "outputs": [],
   "source": [
    "load(\"data/simpatdat.rda\")"
   ]
  },
  {
   "cell_type": "markdown",
   "id": "5902b53d",
   "metadata": {
    "lines_to_next_cell": 0
   },
   "source": [
    "### Fit G-Estimation by Iteration\n",
    "It iterates over several values for $\\psi$ and returns a data frame with $\\psi$ and corresponding $\\alpha$"
   ]
  },
  {
   "cell_type": "code",
   "execution_count": 10,
   "id": "07120784",
   "metadata": {
    "name": "g.est method.iter"
   },
   "outputs": [],
   "source": [
    "outcome <- \"Uncertain_Low_Back_Pain\"\n",
    "exposure <- \"treatment\"\n",
    "confounder <- c(\"Activity\")\n",
    "id <- \"patient_id\"\n",
    "df <- nofgest(simpatdat, outcome, exposure, confounder, id, method=\"iterate\", steps=100, upper_bound_psi = 10, lower_bound_psi = -10)"
   ]
  },
  {
   "cell_type": "markdown",
   "id": "ae601a7d",
   "metadata": {
    "lines_to_next_cell": 0
   },
   "source": [
    "This function is useful to plot a curve for $\\alpha$ and $\\psi$."
   ]
  },
  {
   "cell_type": "code",
   "execution_count": 11,
   "id": "73baa6af",
   "metadata": {
    "message": false,
    "name": "g.est method.iter plot",
    "warnings": false
   },
   "outputs": [
    {
     "data": {
      "image/png": "[encoded data removed]",
      "text/plain": [
       "Plot with title “paste(\"Plot of \", alpha, \"( \", psi, \")\")”"
      ]
     },
     "metadata": {
      "image/png": {
       "height": 420,
       "width": 420
      }
     },
     "output_type": "display_data"
    }
   ],
   "source": [
    "plot( df$PSI ,df$Beta, type=\"l\", main=expression(paste(\"Plot of \", alpha, \"( \", psi,\")\")),\n",
    "        xlab=expression(psi),\n",
    "        ylab=expression(alpha))\n",
    "# Add a second line\n",
    "lines( c(-100,100),c(0,0), type = \"l\", col = \"red\")"
   ]
  },
  {
   "cell_type": "markdown",
   "id": "e8a7377f",
   "metadata": {
    "lines_to_next_cell": 0
   },
   "source": [
    "### Fit G-Estimation by Recursive Mean\n",
    "\n",
    "This function approximate $\\psi$ by an interval search."
   ]
  },
  {
   "cell_type": "code",
   "execution_count": 12,
   "id": "2cc533df",
   "metadata": {
    "message": false,
    "name": "g.est method.rec_mean",
    "warnings": false
   },
   "outputs": [
    {
     "name": "stdout",
     "output_type": "stream",
     "text": [
      "[1] \"Max Iterations:\"\n"
     ]
    },
    {
     "data": {
      "text/html": [
       "<table class=\"dataframe\">\n",
       "<caption>A data.frame: 11 × 7</caption>\n",
       "<thead>\n",
       "\t<tr><th></th><th scope=col>upper_psi</th><th scope=col>upper_beta</th><th scope=col>upper_se</th><th scope=col>lower_psi</th><th scope=col>lower_beta</th><th scope=col>lower_se</th><th scope=col>iteration</th></tr>\n",
       "\t<tr><th></th><th scope=col>&lt;dbl&gt;</th><th scope=col>&lt;dbl&gt;</th><th scope=col>&lt;dbl&gt;</th><th scope=col>&lt;dbl&gt;</th><th scope=col>&lt;dbl&gt;</th><th scope=col>&lt;dbl&gt;</th><th scope=col>&lt;dbl&gt;</th></tr>\n",
       "</thead>\n",
       "<tbody>\n",
       "\t<tr><th scope=row>1</th><td>-1.109375</td><td>-0.003446206</td><td>0.040946897</td><td>-1.117188</td><td>0.0003072594</td><td>0.03584373</td><td>10</td></tr>\n",
       "\t<tr><th scope=row>2</th><td>-1.109375</td><td>-0.003446206</td><td>0.040946897</td><td>-1.117188</td><td>0.0003072594</td><td>0.03584373</td><td> 9</td></tr>\n",
       "\t<tr><th scope=row>3</th><td>-1.109375</td><td>-0.003446206</td><td>0.040946897</td><td>-1.125000</td><td>0.0040606711</td><td>0.03584373</td><td> 8</td></tr>\n",
       "\t<tr><th scope=row>4</th><td>-1.093750</td><td>-0.010950659</td><td>0.040608006</td><td>-1.125000</td><td>0.0040606711</td><td>0.03584373</td><td> 7</td></tr>\n",
       "\t<tr><th scope=row>5</th><td>-1.062500</td><td>-0.025931203</td><td>0.039908527</td><td>-1.125000</td><td>0.0040606711</td><td>0.03584373</td><td> 6</td></tr>\n",
       "\t<tr><th scope=row>6</th><td>-1.000000</td><td>-0.055632933</td><td>0.038450862</td><td>-1.125000</td><td>0.0040606711</td><td>0.03584373</td><td> 5</td></tr>\n",
       "\t<tr><th scope=row>7</th><td>-1.000000</td><td>-0.055632933</td><td>0.038450862</td><td>-1.250000</td><td>0.0635736508</td><td>0.03584373</td><td> 4</td></tr>\n",
       "\t<tr><th scope=row>8</th><td>-1.000000</td><td>-0.055632933</td><td>0.038450862</td><td>-1.500000</td><td>0.1720752047</td><td>0.03584373</td><td> 3</td></tr>\n",
       "\t<tr><th scope=row>9</th><td>-1.000000</td><td>-0.055632933</td><td>0.038450862</td><td>-2.000000</td><td>0.3086996366</td><td>0.03584373</td><td> 2</td></tr>\n",
       "\t<tr><th scope=row>10</th><td> 0.000000</td><td>-0.335496982</td><td>0.025465297</td><td>-2.000000</td><td>0.3086996366</td><td>0.03584373</td><td> 1</td></tr>\n",
       "\t<tr><th scope=row>11</th><td> 2.000000</td><td>-0.264243363</td><td>0.008784946</td><td>-2.000000</td><td>0.3086996366</td><td>0.03584373</td><td> 0</td></tr>\n",
       "</tbody>\n",
       "</table>\n"
      ],
      "text/latex": [
       "A data.frame: 11 × 7\n",
       "\\begin{tabular}{r|lllllll}\n",
       "  & upper\\_psi & upper\\_beta & upper\\_se & lower\\_psi & lower\\_beta & lower\\_se & iteration\\\\\n",
       "  & <dbl> & <dbl> & <dbl> & <dbl> & <dbl> & <dbl> & <dbl>\\\\\n",
       "\\hline\n",
       "\t1 & -1.109375 & -0.003446206 & 0.040946897 & -1.117188 & 0.0003072594 & 0.03584373 & 10\\\\\n",
       "\t2 & -1.109375 & -0.003446206 & 0.040946897 & -1.117188 & 0.0003072594 & 0.03584373 &  9\\\\\n",
       "\t3 & -1.109375 & -0.003446206 & 0.040946897 & -1.125000 & 0.0040606711 & 0.03584373 &  8\\\\\n",
       "\t4 & -1.093750 & -0.010950659 & 0.040608006 & -1.125000 & 0.0040606711 & 0.03584373 &  7\\\\\n",
       "\t5 & -1.062500 & -0.025931203 & 0.039908527 & -1.125000 & 0.0040606711 & 0.03584373 &  6\\\\\n",
       "\t6 & -1.000000 & -0.055632933 & 0.038450862 & -1.125000 & 0.0040606711 & 0.03584373 &  5\\\\\n",
       "\t7 & -1.000000 & -0.055632933 & 0.038450862 & -1.250000 & 0.0635736508 & 0.03584373 &  4\\\\\n",
       "\t8 & -1.000000 & -0.055632933 & 0.038450862 & -1.500000 & 0.1720752047 & 0.03584373 &  3\\\\\n",
       "\t9 & -1.000000 & -0.055632933 & 0.038450862 & -2.000000 & 0.3086996366 & 0.03584373 &  2\\\\\n",
       "\t10 &  0.000000 & -0.335496982 & 0.025465297 & -2.000000 & 0.3086996366 & 0.03584373 &  1\\\\\n",
       "\t11 &  2.000000 & -0.264243363 & 0.008784946 & -2.000000 & 0.3086996366 & 0.03584373 &  0\\\\\n",
       "\\end{tabular}\n"
      ],
      "text/markdown": [
       "\n",
       "A data.frame: 11 × 7\n",
       "\n",
       "| <!--/--> | upper_psi &lt;dbl&gt; | upper_beta &lt;dbl&gt; | upper_se &lt;dbl&gt; | lower_psi &lt;dbl&gt; | lower_beta &lt;dbl&gt; | lower_se &lt;dbl&gt; | iteration &lt;dbl&gt; |\n",
       "|---|---|---|---|---|---|---|---|\n",
       "| 1 | -1.109375 | -0.003446206 | 0.040946897 | -1.117188 | 0.0003072594 | 0.03584373 | 10 |\n",
       "| 2 | -1.109375 | -0.003446206 | 0.040946897 | -1.117188 | 0.0003072594 | 0.03584373 |  9 |\n",
       "| 3 | -1.109375 | -0.003446206 | 0.040946897 | -1.125000 | 0.0040606711 | 0.03584373 |  8 |\n",
       "| 4 | -1.093750 | -0.010950659 | 0.040608006 | -1.125000 | 0.0040606711 | 0.03584373 |  7 |\n",
       "| 5 | -1.062500 | -0.025931203 | 0.039908527 | -1.125000 | 0.0040606711 | 0.03584373 |  6 |\n",
       "| 6 | -1.000000 | -0.055632933 | 0.038450862 | -1.125000 | 0.0040606711 | 0.03584373 |  5 |\n",
       "| 7 | -1.000000 | -0.055632933 | 0.038450862 | -1.250000 | 0.0635736508 | 0.03584373 |  4 |\n",
       "| 8 | -1.000000 | -0.055632933 | 0.038450862 | -1.500000 | 0.1720752047 | 0.03584373 |  3 |\n",
       "| 9 | -1.000000 | -0.055632933 | 0.038450862 | -2.000000 | 0.3086996366 | 0.03584373 |  2 |\n",
       "| 10 |  0.000000 | -0.335496982 | 0.025465297 | -2.000000 | 0.3086996366 | 0.03584373 |  1 |\n",
       "| 11 |  2.000000 | -0.264243363 | 0.008784946 | -2.000000 | 0.3086996366 | 0.03584373 |  0 |\n",
       "\n"
      ],
      "text/plain": [
       "   upper_psi upper_beta   upper_se    lower_psi lower_beta   lower_se  \n",
       "1  -1.109375 -0.003446206 0.040946897 -1.117188 0.0003072594 0.03584373\n",
       "2  -1.109375 -0.003446206 0.040946897 -1.117188 0.0003072594 0.03584373\n",
       "3  -1.109375 -0.003446206 0.040946897 -1.125000 0.0040606711 0.03584373\n",
       "4  -1.093750 -0.010950659 0.040608006 -1.125000 0.0040606711 0.03584373\n",
       "5  -1.062500 -0.025931203 0.039908527 -1.125000 0.0040606711 0.03584373\n",
       "6  -1.000000 -0.055632933 0.038450862 -1.125000 0.0040606711 0.03584373\n",
       "7  -1.000000 -0.055632933 0.038450862 -1.250000 0.0635736508 0.03584373\n",
       "8  -1.000000 -0.055632933 0.038450862 -1.500000 0.1720752047 0.03584373\n",
       "9  -1.000000 -0.055632933 0.038450862 -2.000000 0.3086996366 0.03584373\n",
       "10  0.000000 -0.335496982 0.025465297 -2.000000 0.3086996366 0.03584373\n",
       "11  2.000000 -0.264243363 0.008784946 -2.000000 0.3086996366 0.03584373\n",
       "   iteration\n",
       "1  10       \n",
       "2   9       \n",
       "3   8       \n",
       "4   7       \n",
       "5   6       \n",
       "6   5       \n",
       "7   4       \n",
       "8   3       \n",
       "9   2       \n",
       "10  1       \n",
       "11  0       "
      ]
     },
     "metadata": {},
     "output_type": "display_data"
    }
   ],
   "source": [
    "outcome <- \"Uncertain_Low_Back_Pain\"\n",
    "exposure <- \"treatment\"\n",
    "confounder <- c(\"Activity\")\n",
    "id <- \"patient_id\"\n",
    "nofgest(simpatdat, outcome, exposure, confounder, id, method=\"rec_mean\", max_number_it = 10, verbose=FALSE)"
   ]
  },
  {
   "cell_type": "markdown",
   "id": "5ba595db",
   "metadata": {
    "lines_to_next_cell": 0
   },
   "source": [
    "### Fit G-Estimation by Recursive Improved\n",
    "\n",
    "This function approximate $\\psi$ by an optimized interval search."
   ]
  },
  {
   "cell_type": "code",
   "execution_count": 13,
   "id": "917b64d4",
   "metadata": {
    "lines_to_next_cell": 0,
    "message": false,
    "name": "g.est method.rec_lin",
    "warnings": false
   },
   "outputs": [
    {
     "name": "stdout",
     "output_type": "stream",
     "text": [
      "[1] \"Converged! Optimal Psi:  -1.1165479816877\"\n"
     ]
    },
    {
     "data": {
      "text/html": [
       "<table class=\"dataframe\">\n",
       "<caption>A data.frame: 9 × 7</caption>\n",
       "<thead>\n",
       "\t<tr><th></th><th scope=col>upper_psi</th><th scope=col>upper_beta</th><th scope=col>upper_se</th><th scope=col>lower_psi</th><th scope=col>lower_beta</th><th scope=col>lower_se</th><th scope=col>iteration</th></tr>\n",
       "\t<tr><th></th><th scope=col>&lt;dbl&gt;</th><th scope=col>&lt;dbl&gt;</th><th scope=col>&lt;dbl&gt;</th><th scope=col>&lt;dbl&gt;</th><th scope=col>&lt;dbl&gt;</th><th scope=col>&lt;dbl&gt;</th><th scope=col>&lt;dbl&gt;</th></tr>\n",
       "</thead>\n",
       "<tbody>\n",
       "\t<tr><th scope=row>1</th><td>-1.1165480</td><td>-1.179378e-17</td><td>0.041099672</td><td>-1.116548</td><td>9.698380e-08</td><td>0.03584373</td><td>8</td></tr>\n",
       "\t<tr><th scope=row>2</th><td>-1.1165480</td><td>-1.179378e-17</td><td>0.041099672</td><td>-1.116548</td><td>9.698380e-08</td><td>0.03584373</td><td>7</td></tr>\n",
       "\t<tr><th scope=row>3</th><td>-1.1165480</td><td>-1.915311e-15</td><td>0.041099672</td><td>-1.116548</td><td>9.698380e-08</td><td>0.03584373</td><td>6</td></tr>\n",
       "\t<tr><th scope=row>4</th><td>-1.1162943</td><td>-1.219032e-04</td><td>0.041094300</td><td>-1.116548</td><td>9.698380e-08</td><td>0.03584373</td><td>5</td></tr>\n",
       "\t<tr><th scope=row>5</th><td>-1.1162943</td><td>-1.219032e-04</td><td>0.041094300</td><td>-1.157368</td><td>1.959637e-02</td><td>0.03584373</td><td>4</td></tr>\n",
       "\t<tr><th scope=row>6</th><td>-0.9804303</td><td>-6.482132e-02</td><td>0.037986401</td><td>-1.157368</td><td>1.959637e-02</td><td>0.03584373</td><td>3</td></tr>\n",
       "\t<tr><th scope=row>7</th><td>-0.9804303</td><td>-6.482132e-02</td><td>0.037986401</td><td>-2.000000</td><td>3.086996e-01</td><td>0.03584373</td><td>2</td></tr>\n",
       "\t<tr><th scope=row>8</th><td> 0.1551857</td><td>-3.438355e-01</td><td>0.024008679</td><td>-2.000000</td><td>3.086996e-01</td><td>0.03584373</td><td>1</td></tr>\n",
       "\t<tr><th scope=row>9</th><td> 2.0000000</td><td>-2.642434e-01</td><td>0.008784946</td><td>-2.000000</td><td>3.086996e-01</td><td>0.03584373</td><td>0</td></tr>\n",
       "</tbody>\n",
       "</table>\n"
      ],
      "text/latex": [
       "A data.frame: 9 × 7\n",
       "\\begin{tabular}{r|lllllll}\n",
       "  & upper\\_psi & upper\\_beta & upper\\_se & lower\\_psi & lower\\_beta & lower\\_se & iteration\\\\\n",
       "  & <dbl> & <dbl> & <dbl> & <dbl> & <dbl> & <dbl> & <dbl>\\\\\n",
       "\\hline\n",
       "\t1 & -1.1165480 & -1.179378e-17 & 0.041099672 & -1.116548 & 9.698380e-08 & 0.03584373 & 8\\\\\n",
       "\t2 & -1.1165480 & -1.179378e-17 & 0.041099672 & -1.116548 & 9.698380e-08 & 0.03584373 & 7\\\\\n",
       "\t3 & -1.1165480 & -1.915311e-15 & 0.041099672 & -1.116548 & 9.698380e-08 & 0.03584373 & 6\\\\\n",
       "\t4 & -1.1162943 & -1.219032e-04 & 0.041094300 & -1.116548 & 9.698380e-08 & 0.03584373 & 5\\\\\n",
       "\t5 & -1.1162943 & -1.219032e-04 & 0.041094300 & -1.157368 & 1.959637e-02 & 0.03584373 & 4\\\\\n",
       "\t6 & -0.9804303 & -6.482132e-02 & 0.037986401 & -1.157368 & 1.959637e-02 & 0.03584373 & 3\\\\\n",
       "\t7 & -0.9804303 & -6.482132e-02 & 0.037986401 & -2.000000 & 3.086996e-01 & 0.03584373 & 2\\\\\n",
       "\t8 &  0.1551857 & -3.438355e-01 & 0.024008679 & -2.000000 & 3.086996e-01 & 0.03584373 & 1\\\\\n",
       "\t9 &  2.0000000 & -2.642434e-01 & 0.008784946 & -2.000000 & 3.086996e-01 & 0.03584373 & 0\\\\\n",
       "\\end{tabular}\n"
      ],
      "text/markdown": [
       "\n",
       "A data.frame: 9 × 7\n",
       "\n",
       "| <!--/--> | upper_psi &lt;dbl&gt; | upper_beta &lt;dbl&gt; | upper_se &lt;dbl&gt; | lower_psi &lt;dbl&gt; | lower_beta &lt;dbl&gt; | lower_se &lt;dbl&gt; | iteration &lt;dbl&gt; |\n",
       "|---|---|---|---|---|---|---|---|\n",
       "| 1 | -1.1165480 | -1.179378e-17 | 0.041099672 | -1.116548 | 9.698380e-08 | 0.03584373 | 8 |\n",
       "| 2 | -1.1165480 | -1.179378e-17 | 0.041099672 | -1.116548 | 9.698380e-08 | 0.03584373 | 7 |\n",
       "| 3 | -1.1165480 | -1.915311e-15 | 0.041099672 | -1.116548 | 9.698380e-08 | 0.03584373 | 6 |\n",
       "| 4 | -1.1162943 | -1.219032e-04 | 0.041094300 | -1.116548 | 9.698380e-08 | 0.03584373 | 5 |\n",
       "| 5 | -1.1162943 | -1.219032e-04 | 0.041094300 | -1.157368 | 1.959637e-02 | 0.03584373 | 4 |\n",
       "| 6 | -0.9804303 | -6.482132e-02 | 0.037986401 | -1.157368 | 1.959637e-02 | 0.03584373 | 3 |\n",
       "| 7 | -0.9804303 | -6.482132e-02 | 0.037986401 | -2.000000 | 3.086996e-01 | 0.03584373 | 2 |\n",
       "| 8 |  0.1551857 | -3.438355e-01 | 0.024008679 | -2.000000 | 3.086996e-01 | 0.03584373 | 1 |\n",
       "| 9 |  2.0000000 | -2.642434e-01 | 0.008784946 | -2.000000 | 3.086996e-01 | 0.03584373 | 0 |\n",
       "\n"
      ],
      "text/plain": [
       "  upper_psi  upper_beta    upper_se    lower_psi lower_beta   lower_se  \n",
       "1 -1.1165480 -1.179378e-17 0.041099672 -1.116548 9.698380e-08 0.03584373\n",
       "2 -1.1165480 -1.179378e-17 0.041099672 -1.116548 9.698380e-08 0.03584373\n",
       "3 -1.1165480 -1.915311e-15 0.041099672 -1.116548 9.698380e-08 0.03584373\n",
       "4 -1.1162943 -1.219032e-04 0.041094300 -1.116548 9.698380e-08 0.03584373\n",
       "5 -1.1162943 -1.219032e-04 0.041094300 -1.157368 1.959637e-02 0.03584373\n",
       "6 -0.9804303 -6.482132e-02 0.037986401 -1.157368 1.959637e-02 0.03584373\n",
       "7 -0.9804303 -6.482132e-02 0.037986401 -2.000000 3.086996e-01 0.03584373\n",
       "8  0.1551857 -3.438355e-01 0.024008679 -2.000000 3.086996e-01 0.03584373\n",
       "9  2.0000000 -2.642434e-01 0.008784946 -2.000000 3.086996e-01 0.03584373\n",
       "  iteration\n",
       "1 8        \n",
       "2 7        \n",
       "3 6        \n",
       "4 5        \n",
       "5 4        \n",
       "6 3        \n",
       "7 2        \n",
       "8 1        \n",
       "9 0        "
      ]
     },
     "metadata": {},
     "output_type": "display_data"
    }
   ],
   "source": [
    "outcome <- \"Uncertain_Low_Back_Pain\"\n",
    "exposure <- \"treatment\"\n",
    "confounder <- c(\"Activity\")\n",
    "id <- \"patient_id\"\n",
    "nofgest(simpatdat, outcome, exposure, confounder, id, method=\"rec\", max_number_it = 10, verbose=FALSE)"
   ]
  },
  {
   "cell_type": "markdown",
   "id": "d482b6c3",
   "metadata": {},
   "source": [
    "\n"
   ]
  }
 ],
 "metadata": {
  "jupytext": {
   "cell_metadata_filter": "message,warnings,name,-all",
   "main_language": "R",
   "notebook_metadata_filter": "-all"
  },
  "kernelspec": {
   "display_name": "R",
   "language": "R",
   "name": "ir"
  },
  "language_info": {
   "codemirror_mode": "r",
   "file_extension": ".r",
   "mimetype": "text/x-r-source",
   "name": "R",
   "pygments_lexer": "r",
   "version": "4.0.4"
  }
 },
 "nbformat": 4,
 "nbformat_minor": 5
}
